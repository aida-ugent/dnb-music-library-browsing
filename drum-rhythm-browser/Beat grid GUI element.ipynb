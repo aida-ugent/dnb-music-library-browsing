{
 "cells": [
  {
   "cell_type": "markdown",
   "metadata": {},
   "source": [
    "A utility GUI element to show a beat grid, that allows the user to select some boxes, and then export the rhythm."
   ]
  },
  {
   "cell_type": "code",
   "execution_count": null,
   "metadata": {},
   "outputs": [],
   "source": [
    "from ipywidgets import Layout, ButtonStyle, Button, HBox, VBox, Label\n",
    "import numpy as np"
   ]
  },
  {
   "cell_type": "code",
   "execution_count": null,
   "metadata": {
    "code_folding": [],
    "scrolled": true
   },
   "outputs": [],
   "source": [
    "class NoteButton(Button):\n",
    "    \n",
    "    def __init__(self, *args, **kwargs):\n",
    "        button_layout = Layout(height='20px', width='20px', border='1px solid black')\n",
    "        kwargs.setdefault('layout', button_layout)\n",
    "        if 'index' in kwargs and kwargs['index'] % 8 == 0:\n",
    "            self.button_color = 'lightgray'\n",
    "        else:\n",
    "            self.button_color = 'white'\n",
    "        button_style = ButtonStyle(button_color=self.button_color)\n",
    "        kwargs.setdefault('style', button_style)\n",
    "        super().__init__(*args, **kwargs)\n",
    "        self.selected = False\n",
    "        self.on_click(self.button_clicked_handler)\n",
    "        \n",
    "    def button_clicked_handler(self, b):\n",
    "        self.selected = not self.selected\n",
    "        self.style.button_color = 'black' if self.selected else self.button_color\n",
    "        \n",
    "notes1 = [NoteButton(index=i) for i in range(32)] \n",
    "notes2 = [NoteButton(index=i) for i in range(32)] \n",
    "\n",
    "box_layout = Layout(#overflow='scroll',\n",
    "                    #border='3px solid black',\n",
    "                    width='',\n",
    "                    height='40px',\n",
    "                    flex_flow='row',\n",
    "                    display='flex')\n",
    "\n",
    "row1 = HBox(children=notes1, layout=box_layout)\n",
    "row2 = HBox(children=notes2, layout=box_layout)\n",
    "\n",
    "VBox([row1, row2])"
   ]
  },
  {
   "cell_type": "code",
   "execution_count": null,
   "metadata": {
    "scrolled": false
   },
   "outputs": [],
   "source": [
    "b = Button(description='Click me')\n",
    "def parse_drums(b):\n",
    "    result = np.zeros((2, len(notes1)))\n",
    "    for i, (n1, n2) in enumerate(zip(notes1, notes2)):\n",
    "        if n1.selected:\n",
    "            result[0, i] = 1\n",
    "        if n2.selected:\n",
    "            result[1, i] = 1\n",
    "    print(result)\n",
    "b.on_click(parse_drums)\n",
    "b"
   ]
  },
  {
   "cell_type": "code",
   "execution_count": null,
   "metadata": {},
   "outputs": [],
   "source": []
  }
 ],
 "metadata": {
  "kernelspec": {
   "display_name": "Python (librosa)",
   "language": "python",
   "name": "librosa"
  },
  "language_info": {
   "codemirror_mode": {
    "name": "ipython",
    "version": 3
   },
   "file_extension": ".py",
   "mimetype": "text/x-python",
   "name": "python",
   "nbconvert_exporter": "python",
   "pygments_lexer": "ipython3",
   "version": "3.6.6"
  }
 },
 "nbformat": 4,
 "nbformat_minor": 2
}
